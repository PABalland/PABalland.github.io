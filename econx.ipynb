{
  "cells": [
    {
      "cell_type": "markdown",
      "metadata": {
        "id": "gRU7GZihd4Q7"
      },
      "source": [
        "Markdown cell\n",
        "================================================================================\n",
        "\n"
      ]
    },
    {
      "cell_type": "code",
      "execution_count": null,
      "metadata": {
        "id": "T74do3QMd4Q9"
      },
      "outputs": [],
      "source": [
        "print('installing packages, takes some mins on Google Colab')\n",
        "\n",
        "ptm <- proc.time()\n",
        "print('installing tidyverse')\n",
        "install.packages('tidyverse')\n",
        "proc.time() - ptm\n",
        "\n",
        "ptm <- proc.time()\n",
        "print('installing reticulate')\n",
        "install.packages('reticulate')\n",
        "proc.time() - ptm\n",
        "\n",
        "ptm <- proc.time()\n",
        "print('installing foreign')\n",
        "install.packages('foreign')\n",
        "proc.time() - ptm\n",
        "\n",
        "ptm <- proc.time()\n",
        "print('installing png')\n",
        "install.packages('png')\n",
        "proc.time() - ptm\n",
        "\n",
        "ptm <- proc.time()\n",
        "print('installing economiccomplexity')\n",
        "install.packages('economiccomplexity')\n",
        "proc.time() - ptm\n",
        "\n",
        "ptm <- proc.time()\n",
        "print('installing tidylog')\n",
        "install.packages('tidylog')\n",
        "proc.time() - ptm\n",
        "\n",
        "print('done installing packages')"
      ]
    }
  ],
  "metadata": {
    "org": null,
    "kernelspec": {
      "display_name": "R",
      "language": "R",
      "name": "ir"
    },
    "language_info": {
      "codemirror_mode": "r",
      "file_extension": ".r",
      "mimetype": "text/x-r-source",
      "name": "R",
      "pygments_lexer": "r",
      "version": "3.3.2"
    },
    "colab": {
      "provenance": []
    }
  },
  "nbformat": 4,
  "nbformat_minor": 0
}